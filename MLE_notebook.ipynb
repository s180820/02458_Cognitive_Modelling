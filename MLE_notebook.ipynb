{
 "cells": [
  {
   "cell_type": "code",
   "execution_count": 1,
   "metadata": {},
   "outputs": [],
   "source": [
    "from Exam.examtoolbox import *\n",
    "import pandas as pd\n",
    "\n"
   ]
  },
  {
   "cell_type": "code",
   "execution_count": 3,
   "metadata": {},
   "outputs": [],
   "source": [
    "data = pd.read_csv(\"Exam/test_data/Homework3pt2DataCSV1.txt\", header = None, sep= \"\\s+\")"
   ]
  },
  {
   "cell_type": "code",
   "execution_count": 4,
   "metadata": {},
   "outputs": [
    {
     "name": "stdout",
     "output_type": "stream",
     "text": [
      "Printing parameters for Early Fusion Model\n",
      "c_a:  3.311691998287786\n",
      "c_v:  1.8576907099765871\n",
      "sigma_a:  0.9029544037624612\n",
      "sigma_v:  0.875233385357022\n",
      "Negative Loglikelihood Value: 72.80160664670231\n"
     ]
    }
   ],
   "source": [
    "model = MLE(n_responses=24, data=data)\n",
    "\n",
    "# to get the model parameters and the negative log likelihood do this:\n",
    "# model.print_parameters() and state which model you want to look at; 'Early', 'Fuzzy', or 'Late'\n",
    "\n",
    "model.print_parameters(model='Early')\n"
   ]
  },
  {
   "cell_type": "code",
   "execution_count": 5,
   "metadata": {},
   "outputs": [
    {
     "name": "stdout",
     "output_type": "stream",
     "text": [
      "Printing parameters for Fuzzy Model\n",
      "P_a1: 0.2275457703593325\n",
      "P_a2: 0.3867070124178916\n",
      "P_a3: 0.5138876857572401\n",
      "P_a4: 0.9572476283403133\n",
      "P_a5: 0.9781423807019725\n",
      "P_v1: 0.030194520936331782\n",
      "P_v2: 0.4187351795956412\n",
      "P_v3: 0.5578200523630585\n",
      "P_v4: 0.7347719374508207\n",
      "P_v5: 0.8220089188215518\n",
      "Negative Loglikelihood Value: 108.14672925723688\n"
     ]
    }
   ],
   "source": [
    "\n",
    "model.print_parameters(model='Fuzzy')\n"
   ]
  },
  {
   "cell_type": "code",
   "execution_count": 6,
   "metadata": {},
   "outputs": [
    {
     "name": "stdout",
     "output_type": "stream",
     "text": [
      "Printing parameters for Late Fusion Model\n",
      "c_a:  3.2269960084055853\n",
      "c_v:  1.9353986228773137\n",
      "sigma_a:  1.3406117785863092\n",
      "sigma_v:  1.33444892308915\n",
      "Negative Loglikelihood Value: 95.30782910293745\n"
     ]
    }
   ],
   "source": [
    "\n",
    "model.print_parameters(model='Late')"
   ]
  },
  {
   "cell_type": "code",
   "execution_count": null,
   "metadata": {},
   "outputs": [],
   "source": []
  }
 ],
 "metadata": {
  "kernelspec": {
   "display_name": "Python 3.9.4 64-bit",
   "language": "python",
   "name": "python3"
  },
  "language_info": {
   "codemirror_mode": {
    "name": "ipython",
    "version": 3
   },
   "file_extension": ".py",
   "mimetype": "text/x-python",
   "name": "python",
   "nbconvert_exporter": "python",
   "pygments_lexer": "ipython3",
   "version": "3.9.4"
  },
  "orig_nbformat": 4,
  "vscode": {
   "interpreter": {
    "hash": "a84faab740edc2ffcdbf4168f32bd03a4e5724d7f9fad76844773b2af875e96a"
   }
  }
 },
 "nbformat": 4,
 "nbformat_minor": 2
}
