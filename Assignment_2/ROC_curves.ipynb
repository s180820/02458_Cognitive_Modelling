{
 "cells": [
  {
   "cell_type": "markdown",
   "metadata": {},
   "source": [
    "# ROC curves "
   ]
  },
  {
   "cell_type": "code",
   "execution_count": null,
   "metadata": {},
   "outputs": [],
   "source": [
    "import numpy as np \n",
    "def roc_curve(img_base, img_new, thresholds):\n",
    "\n",
    "    fpr = []\n",
    "    tpr = []\n",
    "\n",
    "    for threshold in thresholds:\n",
    "\n",
    "        #Stimuli\n",
    "        yes_s = sum([1 if i >= threshold else 0 for i in img_new]) #tp \n",
    "        no_s = sum([1 if i < threshold else 0 for i in img_new]) #fn\n",
    "\n",
    "        #No stimul\n",
    "        yes_s0 = sum([1 if i >= threshold else 0 for i in img_base]) #fp\n",
    "        no_s0 = sum([1 if i < threshold else 0 for i in img_base]) #tn\n",
    "\n",
    "        tp = yes_s\n",
    "        fn = no_s\n",
    "        tn = no_s0\n",
    "        fp = yes_s0\n",
    "    \n",
    "        fpr.append(fp / (fp + tn))\n",
    "        tpr.append(tp / (tp + fn))\n",
    "\n",
    "    return [fpr, tpr]"
   ]
  },
  {
   "cell_type": "code",
   "execution_count": null,
   "metadata": {},
   "outputs": [],
   "source": [
    "from scipy.stats import norm\n",
    "\n",
    "fprs_roc, tprs_roc = [], []\n",
    "for i in range(4):\n",
    "    resul = roc_curve(Data_df[Data_df.Image == images[0]].norm_Rating, Data_df[Data_df.Image == images[i+1]].norm_Rating, np.linspace(0,1,10))\n",
    "    fprs_roc.append(resul[0])\n",
    "    tprs_roc.append(resul[1])\n",
    "    \n",
    "import matplotlib.pyplot as plt\n",
    "for i in range(len(fprs_roc)):\n",
    "    plt.plot(fprs_roc[i],tprs_roc[i])\n",
    "plt.legend([\"picture 1\",\"picture 2\",\"picture 3\", \"picture 4\"])\n",
    "plt.title(\"Comparrison of ROC curves\")\n",
    "plt.ylabel('TPR')\n",
    "plt.xlabel('FPR')\n",
    "plt.show()"
   ]
  }
 ],
 "metadata": {
  "language_info": {
   "name": "python"
  },
  "orig_nbformat": 4
 },
 "nbformat": 4,
 "nbformat_minor": 2
}
