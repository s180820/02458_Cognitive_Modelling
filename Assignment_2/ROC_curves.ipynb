{
 "cells": [
  {
   "cell_type": "markdown",
   "metadata": {},
   "source": [
    "# ROC curves "
   ]
  },
  {
   "cell_type": "code",
   "execution_count": 2,
   "metadata": {},
   "outputs": [],
   "source": [
    "import glob\n",
    "import numpy as np\n",
    "# import cv2\n",
    "from matplotlib import pyplot as plt\n",
    "import pandas as pd"
   ]
  },
  {
   "cell_type": "code",
   "execution_count": 13,
   "metadata": {},
   "outputs": [],
   "source": [
    "\n",
    "total = 50 \n",
    "tp=[49, 44, 34, 21, 11]\n",
    "fp=[37, 33, 12, 7, 1]\n",
    "\n",
    "# calculate true negatives and false negatives\n",
    "tn = []\n",
    "fn = []\n",
    "for i in range(len(tp)):\n",
    "    tn.append(total - fp[i])\n",
    "    fn.append(total - tp[i])\n",
    "\n",
    "#ROC curve\n",
    "def roc_curve_numbers(tp, fp, tn, fn):\n",
    "\n",
    "    fpr = []\n",
    "    tpr = []\n",
    "\n",
    "    for i in range(len(tp)):\n",
    "        fpr.append(fp[i] / (fp[i] + tn[i]))\n",
    "        tpr.append(tp[i] / (tp[i] + fn[i]))\n",
    "\n",
    "    return [fpr, tpr]\n",
    "\n"
   ]
  },
  {
   "cell_type": "code",
   "execution_count": 14,
   "metadata": {},
   "outputs": [
    {
     "data": {
      "image/png": "[encoded data removed]",
      "text/plain": [
       "<Figure size 432x288 with 1 Axes>"
      ]
     },
     "metadata": {
      "needs_background": "light"
     },
     "output_type": "display_data"
    }
   ],
   "source": [
    "def plot_roc_curve(fpr, tpr, label=None):\n",
    "    plt.plot(fpr, tpr, linewidth=2, label=label)\n",
    "    plt.plot([0, 1], [0, 1], 'k--') # dashed diagonal\n",
    "    plt.axis([0, 1, 0, 1])\n",
    "    plt.xlabel('False Positive Rate')\n",
    "    plt.ylabel('True Positive Rate')\n",
    "\n",
    "\n",
    "fpr, tpr = roc_curve_numbers(tp, fp, tn, fn)\n",
    "plot_roc_curve(fpr, tpr)\n",
    "plt.show()"
   ]
  },
  {
   "cell_type": "code",
   "execution_count": 16,
   "metadata": {},
   "outputs": [
    {
     "name": "stdout",
     "output_type": "stream",
     "text": [
      "[[0.98, 0.88, 0.68, 0.42, 0.22], [0.74, 0.66, 0.24, 0.14, 0.02]]\n"
     ]
    }
   ],
   "source": [
    "# the parameters of the ROC curve\n",
    "def roc_curve_parameters(tp, fp, tn, fn):\n",
    "    tpr = []\n",
    "    fpr = []\n",
    "    for i in range(len(tp)):\n",
    "        tpr.append(tp[i] / (tp[i] + fn[i]))\n",
    "        fpr.append(fp[i] / (fp[i] + tn[i]))\n",
    "    return [tpr, fpr]\n",
    "\n",
    "print(roc_curve_parameters(tp, fp, tn, fn))"
   ]
  },
  {
   "cell_type": "code",
   "execution_count": null,
   "metadata": {},
   "outputs": [],
   "source": []
  }
 ],
 "metadata": {
  "kernelspec": {
   "display_name": "Python 3.8.13 ('katrine_personal_env')",
   "language": "python",
   "name": "python3"
  },
  "language_info": {
   "codemirror_mode": {
    "name": "ipython",
    "version": 3
   },
   "file_extension": ".py",
   "mimetype": "text/x-python",
   "name": "python",
   "nbconvert_exporter": "python",
   "pygments_lexer": "ipython3",
   "version": "3.8.13"
  },
  "orig_nbformat": 4,
  "vscode": {
   "interpreter": {
    "hash": "23b47e8941e9532a227126a88d0aed60e854f3b3d5618484cace29efe7d4fdfe"
   }
  }
 },
 "nbformat": 4,
 "nbformat_minor": 2
}
