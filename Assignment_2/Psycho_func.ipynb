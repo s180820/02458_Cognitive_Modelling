{
 "cells": [
  {
   "cell_type": "markdown",
   "metadata": {},
   "source": [
    "# Psychometric function"
   ]
  },
  {
   "cell_type": "code",
   "execution_count": null,
   "metadata": {},
   "outputs": [],
   "source": [
    "def roc(img_base, img_new, threshold):\n",
    "\n",
    "    fpr = []\n",
    "    tpr = []\n",
    "\n",
    "    yes_s = sum([1 if i >= threshold else 0 for i in img_new]) #tp \n",
    "    no_s = sum([1 if i < threshold else 0 for i in img_new]) #fn\n",
    "\n",
    "    #No stimul\n",
    "    yes_s0 = sum([1 if i >= threshold else 0 for i in img_base]) #fp\n",
    "    no_s0 = sum([1 if i < threshold else 0 for i in img_base]) #tn\n",
    "    \n",
    "    print('Number of correct answers: ', yes_s + no_s0)\n",
    "\n",
    "    print('Number of wrong answers: ', yes_s0 + no_s)\n",
    "\n",
    "    tp = yes_s\n",
    "    fn = no_s\n",
    "    tn = no_s0\n",
    "    fp = yes_s0\n",
    "\n",
    "    fpr.append(fp / (fp + tn))\n",
    "    tpr.append(tp / (tp + fn))  \n",
    "\n",
    "    return [fpr, tpr]"
   ]
  },
  {
   "cell_type": "code",
   "execution_count": null,
   "metadata": {},
   "outputs": [],
   "source": [
    "mu_s = [np.mean(Data_df[Data_df.Image == images[i+1]].norm_Rating) for i in range(4)]\n",
    "mu_s0 = np.mean(Data_df[Data_df.Image == images[0]].norm_Rating)\n",
    "sigma_s = [np.std(Data_df[Data_df.Image == images[i+1]].norm_Rating) for i in range(4)]\n",
    "sigma_s0 = np.std(Data_df[Data_df.Image == images[0]].norm_Rating)\n",
    "fprs, tprs = [], []\n",
    "\n",
    "for i in range(4):\n",
    "    fpr, tpr = roc(Data_df[Data_df.Image == images[0]].norm_Rating, Data_df[Data_df.Image == images[i+1]].norm_Rating, (mu_s[i]+mu_s0)/2)\n",
    "    fprs.append(fpr)\n",
    "    tprs.append(tpr)\n"
   ]
  },
  {
   "cell_type": "code",
   "execution_count": null,
   "metadata": {},
   "outputs": [],
   "source": [
    "print(mu_s0)\n",
    "sigma_s0"
   ]
  },
  {
   "cell_type": "code",
   "execution_count": null,
   "metadata": {},
   "outputs": [],
   "source": [
    "from sympy import symbols, solve, Eq\n",
    "\n",
    "real_cs = []\n",
    "\n",
    "for i in range(len(tprs)):\n",
    "    x = symbols('x')\n",
    "    if tprs[i][0] == 1.0:\n",
    "        Eq1 = Eq(-1/sigma_s[i]*x+mu_s[i]/sigma_s[i], norm.ppf(0.9999999999, loc=mu_s[i], scale=sigma_s[i])) #eq 1.7 lecture notes 2\n",
    "    else:\n",
    "        Eq1 = Eq(-1/sigma_s[i]*x+mu_s[i]/sigma_s[i], norm.ppf(tprs[i], loc=mu_s[i], scale=sigma_s[i])[0])\n",
    "    sol = solve(Eq1)\n",
    "    print(sol)\n",
    "    real_cs.append(sol[0])\n",
    "\n",
    "real_cs"
   ]
  },
  {
   "cell_type": "code",
   "execution_count": null,
   "metadata": {},
   "outputs": [],
   "source": [
    "synthetic_range = np.linspace(-0.2, 1.2, 5)\n",
    "correct_responses = []\n",
    "\n",
    "for i,img in enumerate(sorted(Data_df.Image.unique())):\n",
    "    print(img)\n",
    "    temp_data = Data_df[Data_df.Image == img]\n",
    "    correct = temp_data.norm_Rating >= real_cs[0]\n",
    "    print(np.sum(correct))\n",
    "    correct_responses.append(np.sum(correct))\n",
    "\n",
    "correct_responses = [float(i)/max(correct_responses) for i in correct_responses]\n",
    "number_of_correct_responses = correct_responses\n",
    "print(number_of_correct_responses)"
   ]
  }
 ],
 "metadata": {
  "language_info": {
   "name": "python"
  },
  "orig_nbformat": 4
 },
 "nbformat": 4,
 "nbformat_minor": 2
}
