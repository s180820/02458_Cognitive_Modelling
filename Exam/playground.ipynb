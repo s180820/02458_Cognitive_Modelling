{
 "cells": [
  {
   "cell_type": "code",
   "execution_count": 1,
   "metadata": {},
   "outputs": [],
   "source": [
    "from examtoolbox import *\n",
    "\n",
    "number_of_trials = 30\n",
    "stimulus_intensity = np.array([5, 10, 15, 20, 25, 30])\n",
    "number_of_correct_responses = np.array([12, 11, 19, 27, 30, 30])\n",
    "\n",
    "# Create a new model\n",
    "model = PsychoMetric(stimulus_intensity, number_of_correct_responses, number_of_trials)"
   ]
  },
  {
   "cell_type": "code",
   "execution_count": 2,
   "metadata": {},
   "outputs": [
    {
     "name": "stdout",
     "output_type": "stream",
     "text": [
      "c =  10.131849003731983\n",
      "sigma =  8.190826475506526\n",
      "Negative log likelihood =  11.315347372636985\n"
     ]
    }
   ],
   "source": [
    "model.print_parameters([15, 5], \"psycho\")"
   ]
  },
  {
   "cell_type": "code",
   "execution_count": null,
   "metadata": {},
   "outputs": [],
   "source": []
  }
 ],
 "metadata": {
  "kernelspec": {
   "display_name": "Python 3.10.6 64-bit",
   "language": "python",
   "name": "python3"
  },
  "language_info": {
   "codemirror_mode": {
    "name": "ipython",
    "version": 3
   },
   "file_extension": ".py",
   "mimetype": "text/x-python",
   "name": "python",
   "nbconvert_exporter": "python",
   "pygments_lexer": "ipython3",
   "version": "3.10.6"
  },
  "orig_nbformat": 4,
  "vscode": {
   "interpreter": {
    "hash": "b0fa6594d8f4cbf19f97940f81e996739fb7646882a419484c72d19e05852a7e"
   }
  }
 },
 "nbformat": 4,
 "nbformat_minor": 2
}
