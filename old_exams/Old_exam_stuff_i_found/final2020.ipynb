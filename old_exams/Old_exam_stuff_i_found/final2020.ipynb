{
 "cells": [
  {
   "cell_type": "code",
   "execution_count": 1,
   "metadata": {
    "id": "pHdMQtXDdguZ"
   },
   "outputs": [],
   "source": [
    "import joblib\n",
    "import sys\n",
    "sys.modules['sklearn.externals.joblib'] = joblib\n",
    "\n",
    "\n",
    "import numpy as np\n",
    "import pandas as pd\n",
    "import matplotlib.pyplot as plt\n",
    "import scipy.stats as stats\n",
    "from sklearn.decomposition import PCA\n",
    "from scipy.stats import norm\n",
    "from sklearn.linear_model import LinearRegression\n",
    "from mlxtend.feature_selection import SequentialFeatureSelector as SFS\n",
    "from mlxtend.plotting import plot_sequential_feature_selection as plot_sfs"
   ]
  },
  {
   "cell_type": "markdown",
   "metadata": {
    "id": "Ejq0jNfuTg_K"
   },
   "source": [
    "# Q1"
   ]
  },
  {
   "cell_type": "code",
   "execution_count": 2,
   "metadata": {
    "colab": {
     "base_uri": "https://localhost:8080/"
    },
    "id": "LfKZh2t-TjB2",
    "outputId": "0c10dea8-0d01-4547-faaa-e10a28b5b63e"
   },
   "outputs": [
    {
     "name": "stdout",
     "output_type": "stream",
     "text": [
      "12\n",
      "12\n"
     ]
    }
   ],
   "source": [
    "sound_intensity = np.array([2, 5, 10, 14, 19, 23, 34, 45, 55, 70, 85, 98])\n",
    "difference_threshold = np.array([2.2, 3.1, 3.9, 2.94, 3.45, 3.45, 4.67, 5.85, 7.70, 9.80, 11.90, 13.72])\n",
    "print(len(sound_intensity))\n",
    "print(len(difference_threshold))"
   ]
  },
  {
   "cell_type": "code",
   "execution_count": 3,
   "metadata": {
    "colab": {
     "base_uri": "https://localhost:8080/",
     "height": 296
    },
    "id": "hp5K17Y0UYPd",
    "outputId": "f4c2e1ef-d21a-46f4-f5ca-87a704bac95c"
   },
   "outputs": [
    {
     "data": {
      "text/plain": [
       "<matplotlib.collections.PathCollection at 0x7fa4e3456b20>"
      ]
     },
     "execution_count": 3,
     "metadata": {},
     "output_type": "execute_result"
    },
    {
     "data": {
      "image/png": "[encoded data removed]",
      "text/plain": [
       "<Figure size 432x288 with 1 Axes>"
      ]
     },
     "metadata": {
      "needs_background": "light"
     },
     "output_type": "display_data"
    }
   ],
   "source": [
    "plt.xlabel(\"sound intensity\")\n",
    "plt.ylabel(\"difference threshold\")\n",
    "plt.scatter(sound_intensity, difference_threshold, alpha=0.5, marker='o')"
   ]
  },
  {
   "cell_type": "code",
   "execution_count": 5,
   "metadata": {
    "colab": {
     "base_uri": "https://localhost:8080/",
     "height": 330
    },
    "id": "9vF9xth2hyNJ",
    "outputId": "7c531d4b-f1a2-48f9-aa20-8e7cfd0215c5"
   },
   "outputs": [
    {
     "name": "stdout",
     "output_type": "stream",
     "text": [
      "The coefficients of Weber's Law is 0.11691606367583213\n"
     ]
    },
    {
     "data": {
      "text/plain": [
       "<matplotlib.legend.Legend at 0x7fa5008ffac0>"
      ]
     },
     "execution_count": 5,
     "metadata": {},
     "output_type": "execute_result"
    },
    {
     "data": {
      "image/png": "[encoded data removed]",
      "text/plain": [
       "<Figure size 432x288 with 1 Axes>"
      ]
     },
     "metadata": {
      "needs_background": "light"
     },
     "output_type": "display_data"
    }
   ],
   "source": [
    "# k = delta_I / I\n",
    "# delta_I: difference in threshold\n",
    "# I initial stimulus intensity\n",
    "# 1/k = I / delta_I ==> still linear\n",
    "# http://apps.usd.edu/coglab/WebersLaw.html\n",
    "\n",
    "sound_intensity = sound_intensity.reshape(-1, 1)\n",
    "difference_threshold = difference_threshold.reshape(-1, 1)\n",
    "\n",
    "lr = LinearRegression().fit(sound_intensity, difference_threshold)\n",
    "k = lr.coef_\n",
    "print(\"The coefficients of Weber's Law is\", (k[0])[0])\n",
    "\n",
    "plt.title('Weber\\'s original law')\n",
    "plt.xlabel(\"sound intensity\")\n",
    "plt.ylabel(\"difference threshold\")\n",
    "predicted_difference_threshold = lr.predict(sound_intensity).flatten()\n",
    "plt.scatter(sound_intensity, difference_threshold, alpha=0.5, marker='o')\n",
    "plt.plot(sound_intensity, predicted_difference_threshold,'r-.', label='k value')\n",
    "plt.legend()"
   ]
  },
  {
   "cell_type": "markdown",
   "metadata": {
    "id": "IvBkOHX9qeK9"
   },
   "source": [
    "# Q3"
   ]
  },
  {
   "cell_type": "code",
   "execution_count": 56,
   "metadata": {
    "colab": {
     "base_uri": "https://localhost:8080/"
    },
    "id": "yzyotM6TdmLi",
    "outputId": "bcc249ab-06f4-4f34-fc95-c32df816a8f3"
   },
   "outputs": [
    {
     "name": "stdout",
     "output_type": "stream",
     "text": [
      "298\n"
     ]
    }
   ],
   "source": [
    "gender_strength_idx = np.loadtxt(\"GenderStrengthIndex.txt\")\n",
    "print(len(gender_strength_idx))"
   ]
  },
  {
   "cell_type": "code",
   "execution_count": 57,
   "metadata": {
    "colab": {
     "base_uri": "https://localhost:8080/"
    },
    "id": "RFUf-meaePfT",
    "outputId": "545f0628-c74f-4e3b-ed54-8af353d1d78a"
   },
   "outputs": [
    {
     "name": "stdout",
     "output_type": "stream",
     "text": [
      "(298, 2500)\n"
     ]
    }
   ],
   "source": [
    "image_data = np.loadtxt(\"image_data.txt\")\n",
    "print(image_data.shape)"
   ]
  },
  {
   "cell_type": "code",
   "execution_count": 58,
   "metadata": {
    "id": "emLxAgCgenmw"
   },
   "outputs": [],
   "source": [
    "mean_face = np.zeros((1, 50*50), dtype=np.uint8)\n",
    "\n",
    "for i in range(image_data.shape[0]):\n",
    "    mean_face = np.add(mean_face, image_data[i,:])\n",
    "\n",
    "mean_face = np.divide(mean_face,float(image_data.shape[0])).flatten()"
   ]
  },
  {
   "cell_type": "code",
   "execution_count": 59,
   "metadata": {
    "colab": {
     "base_uri": "https://localhost:8080/"
    },
    "id": "dpi2Dh24foDb",
    "outputId": "3de9c55c-a8f2-47c3-ebdc-237a80a0884c"
   },
   "outputs": [
    {
     "name": "stdout",
     "output_type": "stream",
     "text": [
      "(298, 2500)\n"
     ]
    }
   ],
   "source": [
    "substracted_image_data = np.ndarray((image_data.shape))\n",
    "for i in range(image_data.shape[0]):\n",
    "  substracted_image_data[i, :] = image_data[i, :] - mean_face\n",
    "\n",
    "print(substracted_image_data.shape)"
   ]
  },
  {
   "cell_type": "code",
   "execution_count": 60,
   "metadata": {
    "colab": {
     "base_uri": "https://localhost:8080/"
    },
    "id": "2EEYUqvRgwmw",
    "outputId": "1284d851-c84e-41ec-8bf0-3ae12d9b574b"
   },
   "outputs": [
    {
     "name": "stdout",
     "output_type": "stream",
     "text": [
      "0.6501841771111935\n"
     ]
    }
   ],
   "source": [
    "pca = PCA()\n",
    "projected = pca.fit_transform(substracted_image_data.T)\n",
    "top15_variance = sum(pca.explained_variance_ratio_[:15])\n",
    "print(top15_variance)"
   ]
  },
  {
   "cell_type": "code",
   "execution_count": 61,
   "metadata": {
    "colab": {
     "base_uri": "https://localhost:8080/",
     "height": 284
    },
    "id": "3JmJCWYbhep3",
    "outputId": "8f1aa5f3-4d0c-44f6-a24e-c9082e196b7a"
   },
   "outputs": [
    {
     "data": {
      "text/plain": [
       "<matplotlib.image.AxesImage at 0x7f79b3fecd90>"
      ]
     },
     "execution_count": 61,
     "metadata": {},
     "output_type": "execute_result"
    },
    {
     "data": {
      "image/png": "[encoded data removed]",
      "text/plain": [
       "<Figure size 432x288 with 1 Axes>"
      ]
     },
     "metadata": {
      "needs_background": "light"
     },
     "output_type": "display_data"
    }
   ],
   "source": [
    "reconstructed = np.dot(projected[:, :15], pca.components_[:15]).T\n",
    "plt.imshow((reconstructed[3].reshape((50, 50)).T).astype(np.uint8), cmap=plt.cm.bone)"
   ]
  },
  {
   "cell_type": "code",
   "execution_count": 62,
   "metadata": {
    "colab": {
     "base_uri": "https://localhost:8080/",
     "height": 284
    },
    "id": "j3Kza2xGiiSH",
    "outputId": "b23d1788-ab68-4875-b3fb-d471de2d09b1"
   },
   "outputs": [
    {
     "data": {
      "text/plain": [
       "<matplotlib.image.AxesImage at 0x7f79b6530e10>"
      ]
     },
     "execution_count": 62,
     "metadata": {},
     "output_type": "execute_result"
    },
    {
     "data": {
      "image/png": "[encoded data removed]",
      "text/plain": [
       "<Figure size 432x288 with 1 Axes>"
      ]
     },
     "metadata": {
      "needs_background": "light"
     },
     "output_type": "display_data"
    }
   ],
   "source": [
    "plt.imshow((reconstructed[76].reshape((50, 50)).T).astype(np.uint8), cmap=plt.cm.bone)"
   ]
  },
  {
   "cell_type": "code",
   "execution_count": 63,
   "metadata": {
    "colab": {
     "base_uri": "https://localhost:8080/",
     "height": 284
    },
    "id": "Lmo1hKnnijng",
    "outputId": "62d5565a-e8a1-4a00-c12e-9790060aa886"
   },
   "outputs": [
    {
     "data": {
      "text/plain": [
       "<matplotlib.image.AxesImage at 0x7f79b6027990>"
      ]
     },
     "execution_count": 63,
     "metadata": {},
     "output_type": "execute_result"
    },
    {
     "data": {
      "image/png": "[encoded data removed]",
      "text/plain": [
       "<Figure size 432x288 with 1 Axes>"
      ]
     },
     "metadata": {
      "needs_background": "light"
     },
     "output_type": "display_data"
    }
   ],
   "source": [
    "plt.imshow((reconstructed[262].reshape((50, 50)).T).astype(np.uint8), cmap=plt.cm.bone)"
   ]
  },
  {
   "cell_type": "code",
   "execution_count": 64,
   "metadata": {
    "colab": {
     "base_uri": "https://localhost:8080/",
     "height": 330
    },
    "id": "aP5enbRrjM9g",
    "outputId": "648503b0-c001-4931-813d-a77d29860146"
   },
   "outputs": [
    {
     "name": "stdout",
     "output_type": "stream",
     "text": [
      "(298, 298)\n",
      "(298,)\n"
     ]
    },
    {
     "data": {
      "image/png": "[encoded data removed]",
      "text/plain": [
       "<Figure size 432x288 with 1 Axes>"
      ]
     },
     "metadata": {
      "needs_background": "light"
     },
     "output_type": "display_data"
    }
   ],
   "source": [
    "X = pca.components_.T\n",
    "y = gender_strength_idx\n",
    "\n",
    "print(X.shape)\n",
    "print(y.shape)\n",
    "\n",
    "lr = LinearRegression()\n",
    "\n",
    "sfs = SFS(lr, \n",
    "          k_features=15, \n",
    "          forward=True, \n",
    "          floating=False, \n",
    "          scoring='neg_mean_squared_error',\n",
    "          cv=5)\n",
    "\n",
    "sfs = sfs.fit(X, y)\n",
    "\n",
    "fig = plot_sfs(sfs.get_metric_dict(), kind='std_err')\n",
    "\n",
    "plt.title('Sequential Forward Selection (w. StdErr)')\n",
    "plt.grid()\n",
    "plt.show()"
   ]
  },
  {
   "cell_type": "code",
   "execution_count": 65,
   "metadata": {
    "colab": {
     "base_uri": "https://localhost:8080/"
    },
    "id": "wT2ekb6qpsVb",
    "outputId": "0aef77f8-276d-42a0-bd6c-59ab03fbcbd7"
   },
   "outputs": [
    {
     "name": "stdout",
     "output_type": "stream",
     "text": [
      "(298, 15)\n",
      "[ 2.92360111 -4.52988463 -1.44744751 -2.24632789 -0.5067986   1.07912272\n",
      "  0.79990116 -1.46560124 -2.38534458 -0.93380874 -2.20626455  1.770058\n",
      " -1.52967352  0.35134421 -1.55251069]\n",
      "-0.05609025779194626\n"
     ]
    }
   ],
   "source": [
    "k_features = 15\n",
    "\n",
    "X = pca.components_[: k_features,].T\n",
    "print(X.shape)\n",
    "\n",
    "lr = LinearRegression().fit(X, y)\n",
    "print(lr.coef_)\n",
    "print(lr.intercept_)"
   ]
  },
  {
   "cell_type": "code",
   "execution_count": 66,
   "metadata": {
    "colab": {
     "base_uri": "https://localhost:8080/",
     "height": 145
    },
    "id": "1Lo4v9-uqE86",
    "outputId": "4719956a-bbd8-44a2-d394-05b35658499c"
   },
   "outputs": [
    {
     "data": {
      "image/png": "[encoded data removed]",
      "text/plain": [
       "<Figure size 576x576 with 5 Axes>"
      ]
     },
     "metadata": {},
     "output_type": "display_data"
    }
   ],
   "source": [
    "y_list = [-1, -0.5, 0, 0.5, 10]\n",
    "fig = plt.figure(figsize=(8, 8))\n",
    "fig.subplots_adjust(left=0, right=1, bottom=0, top=1, hspace=0.05, wspace=0.05)\n",
    "\n",
    "for i in range(len(y_list)): \n",
    "  ax = fig.add_subplot(5, 5, i+1, xticks=[], yticks=[])\n",
    "  y0 = y_list[i]\n",
    "  X0 = (y0 - lr.intercept_)/lr.coef_\n",
    "  # print(X0)\n",
    "  reconstructed = np.dot(projected[:,:15], X0)\n",
    "  ax.imshow(np.reshape(reconstructed, (50, 50)).T + mean_face.reshape((50, 50)).T, cmap=plt.cm.bone, interpolation='nearest')"
   ]
  },
  {
   "cell_type": "markdown",
   "metadata": {
    "id": "vpB4ZKynBJKf"
   },
   "source": [
    "# Q4"
   ]
  },
  {
   "cell_type": "code",
   "execution_count": 73,
   "metadata": {
    "colab": {
     "base_uri": "https://localhost:8080/"
    },
    "id": "63Jr_9ghBImk",
    "outputId": "5ac9a454-3d4f-4e26-c879-01ffe5024a19"
   },
   "outputs": [
    {
     "name": "stdout",
     "output_type": "stream",
     "text": [
      "298\n"
     ]
    }
   ],
   "source": [
    "gsi = np.loadtxt(\"GenderStrengthIndex.txt\")\n",
    "print(len(gsi))"
   ]
  },
  {
   "cell_type": "code",
   "execution_count": 75,
   "metadata": {
    "colab": {
     "base_uri": "https://localhost:8080/"
    },
    "id": "bkBbpgfbDLM5",
    "outputId": "0e2ed532-61f8-4bfa-b9df-1b169a556431"
   },
   "outputs": [
    {
     "data": {
      "text/plain": [
       "[98, 41, 6, 4]"
      ]
     },
     "execution_count": 75,
     "metadata": {},
     "output_type": "execute_result"
    }
   ],
   "source": [
    "bins_male = []\n",
    "gsi_male = gsi[:149]\n",
    "for i in range(4):\n",
    "    mask = ((-1 + i*0.5) <= gsi_male) & (gsi_male < (-0.5 + i*0.5))\n",
    "    bin = len(gsi_male[mask])\n",
    "    bins_male.append(bin)\n",
    "\n",
    "bins_male"
   ]
  },
  {
   "cell_type": "code",
   "execution_count": 77,
   "metadata": {
    "colab": {
     "base_uri": "https://localhost:8080/"
    },
    "id": "0FcDSjp1EjxV",
    "outputId": "ab8cd086-6e6a-46a8-90be-f5dabc8fbc05"
   },
   "outputs": [
    {
     "data": {
      "text/plain": [
       "[1, 13, 64, 71]"
      ]
     },
     "execution_count": 77,
     "metadata": {},
     "output_type": "execute_result"
    }
   ],
   "source": [
    "bins_female = []\n",
    "gsi_female = gsi[149:]\n",
    "for i in range(4):\n",
    "    mask = ((-1 + i*0.5) <= gsi_female) & (gsi_female < (-0.5 + i*0.5))\n",
    "    bin = len(gsi_female[mask])\n",
    "    bins_female.append(bin)\n",
    "\n",
    "bins_female"
   ]
  },
  {
   "cell_type": "code",
   "execution_count": 85,
   "metadata": {
    "colab": {
     "base_uri": "https://localhost:8080/",
     "height": 112
    },
    "id": "QJzwCIUKFF4A",
    "outputId": "8a29fbfd-1ac6-4b9c-8d2c-9060c4d561ac"
   },
   "outputs": [
    {
     "data": {
      "text/html": [
       "<div>\n",
       "<style scoped>\n",
       "    .dataframe tbody tr th:only-of-type {\n",
       "        vertical-align: middle;\n",
       "    }\n",
       "\n",
       "    .dataframe tbody tr th {\n",
       "        vertical-align: top;\n",
       "    }\n",
       "\n",
       "    .dataframe thead th {\n",
       "        text-align: right;\n",
       "    }\n",
       "</style>\n",
       "<table border=\"1\" class=\"dataframe\">\n",
       "  <thead>\n",
       "    <tr style=\"text-align: right;\">\n",
       "      <th></th>\n",
       "      <th>-1~-0.5</th>\n",
       "      <th>-0.5~0</th>\n",
       "      <th>0~0.5</th>\n",
       "      <th>0.5~1</th>\n",
       "    </tr>\n",
       "  </thead>\n",
       "  <tbody>\n",
       "    <tr>\n",
       "      <th>male(noise)</th>\n",
       "      <td>98</td>\n",
       "      <td>41</td>\n",
       "      <td>6</td>\n",
       "      <td>4</td>\n",
       "    </tr>\n",
       "    <tr>\n",
       "      <th>female(signal)</th>\n",
       "      <td>1</td>\n",
       "      <td>13</td>\n",
       "      <td>64</td>\n",
       "      <td>71</td>\n",
       "    </tr>\n",
       "  </tbody>\n",
       "</table>\n",
       "</div>"
      ],
      "text/plain": [
       "                -1~-0.5  -0.5~0  0~0.5  0.5~1\n",
       "male(noise)          98      41      6      4\n",
       "female(signal)        1      13     64     71"
      ]
     },
     "metadata": {},
     "output_type": "display_data"
    }
   ],
   "source": [
    "bins = pd.DataFrame([bins_male,bins_female], \n",
    "                    columns=['-1~-0.5','-0.5~0','0~0.5','0.5~1'],\n",
    "                    index=['male(noise)','female(signal)'])\n",
    "display(bins)"
   ]
  },
  {
   "cell_type": "code",
   "execution_count": 86,
   "metadata": {
    "colab": {
     "base_uri": "https://localhost:8080/"
    },
    "id": "Mn3AJ6iAFdds",
    "outputId": "9da9a20f-13fb-418f-904d-cadc21b54920"
   },
   "outputs": [
    {
     "data": {
      "text/plain": [
       "array([[98, 41,  6,  4],\n",
       "       [ 1, 13, 64, 71]])"
      ]
     },
     "execution_count": 86,
     "metadata": {},
     "output_type": "execute_result"
    }
   ],
   "source": [
    "bins = bins.values\n",
    "bins"
   ]
  },
  {
   "cell_type": "code",
   "execution_count": 121,
   "metadata": {
    "id": "JTdgMR_tFrSQ"
   },
   "outputs": [],
   "source": [
    "# set lambda = [-0.5, 0, 0.5]\n",
    "\n",
    "false_alarm_percentage_sequence, hit_percentage_sequence = [],[]\n",
    "for i in range(3):\n",
    "    bins_left = bins[:,:i+1].sum(axis=1)\n",
    "    bins_right = bins[:,i+1:].sum(axis=1)\n",
    "    prob = bins_right/149\n",
    "    false_alarm_percentage_sequence.append(prob[0])\n",
    "    hit_percentage_sequence.append(prob[1])"
   ]
  },
  {
   "cell_type": "code",
   "execution_count": 122,
   "metadata": {
    "colab": {
     "base_uri": "https://localhost:8080/"
    },
    "id": "pKFFc6L8FzuG",
    "outputId": "2abf754c-7de2-43cf-df02-3f322548073b"
   },
   "outputs": [
    {
     "data": {
      "text/plain": [
       "[0.3422818791946309, 0.06711409395973154, 0.026845637583892617]"
      ]
     },
     "execution_count": 122,
     "metadata": {},
     "output_type": "execute_result"
    }
   ],
   "source": [
    "false_alarm_percentage_sequence"
   ]
  },
  {
   "cell_type": "code",
   "execution_count": 123,
   "metadata": {
    "colab": {
     "base_uri": "https://localhost:8080/"
    },
    "id": "1WX0okP5F2Nd",
    "outputId": "1e29ea1d-ae7a-4110-c46e-cc04b50710a7"
   },
   "outputs": [
    {
     "data": {
      "text/plain": [
       "[0.9932885906040269, 0.9060402684563759, 0.47651006711409394]"
      ]
     },
     "execution_count": 123,
     "metadata": {},
     "output_type": "execute_result"
    }
   ],
   "source": [
    "hit_percentage_sequence"
   ]
  },
  {
   "cell_type": "code",
   "execution_count": 140,
   "metadata": {
    "id": "5O1s0GOmHrO0"
   },
   "outputs": [],
   "source": [
    "# set mu_male = 0, and sigma_male = 1, calculate\n",
    "# mu_female,  and sigma_female\n",
    "u_male, sigma_male = 0,1\n",
    "\n",
    "# convert to normal distribution\n",
    "\n",
    "# norm.ppf() takes a percentage and returns a standard \n",
    "# deviation multiplier for what value that percentage occurs at.\n",
    "\n",
    "# return a value marking where k% of data points would be contained\n",
    "# if our data is a normal distribution\n",
    "\n",
    "# -lambda = phi^{-1} (P(FA))\n",
    "# d' - lamda = phi^{-1} (P(Hit))\n",
    "z_Fs,z_Hs = [],[]\n",
    "for i in range(3):\n",
    "    z_Hs.append(-norm.ppf(1-hit_sequence[i]))\n",
    "    z_Fs.append(-norm.ppf(1-false_alarm_sequence[i]))"
   ]
  },
  {
   "cell_type": "code",
   "execution_count": 138,
   "metadata": {
    "id": "oOeH1AT7Jbbk"
   },
   "outputs": [],
   "source": [
    "lr = LinearRegression().fit(np.array(z_Fs).reshape(-1, 1), np.array(z_Hs).reshape(-1, 1))\n",
    "sigma_female = 1/lr.coef_[0,0]"
   ]
  },
  {
   "cell_type": "code",
   "execution_count": 131,
   "metadata": {
    "id": "DxLCKc4mJfh_"
   },
   "outputs": [],
   "source": [
    "u_female = lr.coef_[0,0] * lr.intercept_[0]"
   ]
  },
  {
   "cell_type": "code",
   "execution_count": 132,
   "metadata": {
    "colab": {
     "base_uri": "https://localhost:8080/",
     "height": 112
    },
    "id": "8q1tr9MOJik3",
    "outputId": "c940c5d9-20b4-4a21-a82b-f70e5eba0e18"
   },
   "outputs": [
    {
     "data": {
      "text/html": [
       "<div>\n",
       "<style scoped>\n",
       "    .dataframe tbody tr th:only-of-type {\n",
       "        vertical-align: middle;\n",
       "    }\n",
       "\n",
       "    .dataframe tbody tr th {\n",
       "        vertical-align: top;\n",
       "    }\n",
       "\n",
       "    .dataframe thead th {\n",
       "        text-align: right;\n",
       "    }\n",
       "</style>\n",
       "<table border=\"1\" class=\"dataframe\">\n",
       "  <thead>\n",
       "    <tr style=\"text-align: right;\">\n",
       "      <th></th>\n",
       "      <th>U</th>\n",
       "      <th>Sigma</th>\n",
       "    </tr>\n",
       "  </thead>\n",
       "  <tbody>\n",
       "    <tr>\n",
       "      <th>male(noise)</th>\n",
       "      <td>0.00000</td>\n",
       "      <td>1.000000</td>\n",
       "    </tr>\n",
       "    <tr>\n",
       "      <th>female(signal)</th>\n",
       "      <td>4.96839</td>\n",
       "      <td>0.647462</td>\n",
       "    </tr>\n",
       "  </tbody>\n",
       "</table>\n",
       "</div>"
      ],
      "text/plain": [
       "                      U     Sigma\n",
       "male(noise)     0.00000  1.000000\n",
       "female(signal)  4.96839  0.647462"
      ]
     },
     "metadata": {},
     "output_type": "display_data"
    }
   ],
   "source": [
    "display(pd.DataFrame([[u_male, sigma_male],[u_female, sigma_female]],columns=['U','Sigma'],index=['male(noise)','female(signal)']))"
   ]
  },
  {
   "cell_type": "code",
   "execution_count": 139,
   "metadata": {
    "colab": {
     "base_uri": "https://localhost:8080/",
     "height": 297
    },
    "id": "GrWJ1gXJJl9H",
    "outputId": "c280ad3e-eeaf-474e-bda3-55fb4389c804"
   },
   "outputs": [
    {
     "data": {
      "image/png": "[encoded data removed]",
      "text/plain": [
       "<Figure size 576x288 with 2 Axes>"
      ]
     },
     "metadata": {
      "needs_background": "light"
     },
     "output_type": "display_data"
    }
   ],
   "source": [
    "fig = plt.figure(figsize=(8, 4))\n",
    "ax = fig.add_subplot(1, 2, 1)\n",
    "ax.spines['top'].set_color('none')\n",
    "ax.spines['right'].set_color('none')\n",
    "ax.xaxis.set_ticks_position('bottom')\n",
    "ax.spines['bottom'].set_position(('data', 0))\n",
    "ax.yaxis.set_ticks_position('left')\n",
    "ax.spines['left'].set_position(('data', 0))\n",
    "ax.set_xlabel('$z_F$')\n",
    "ax.set_ylabel('$z_H$')\n",
    "ax.set_xlim([-4,4])\n",
    "ax.set_ylim([-6,6])\n",
    "x = np.linspace(-4,4,10)\n",
    "y = lr.coef_[0,0] * x + lr.intercept_[0]\n",
    "ax.plot(x, y, color='black')\n",
    "ax.plot(z_Fs, z_Hs, 'o')\n",
    "ax.set_title('ROC(linear)')\n",
    "\n",
    "ax1 = fig.add_subplot(1, 2, 2)\n",
    "ax1.set_xlabel('$P(f)$')\n",
    "ax1.set_ylabel('$P(h)$')\n",
    "ax1.set_xlim([0,1.1])\n",
    "ax1.set_ylim([0,1.1])\n",
    "x = [1] + fs + [0]\n",
    "y = [1] + hs + [0]\n",
    "ax1.plot(x,y,'--o')\n",
    "ax1.set_title('ROC(curve)')\n",
    "# plt.show()\n",
    "plt.tight_layout()"
   ]
  }
 ],
 "metadata": {
  "colab": {
   "name": "final2020.ipynb",
   "provenance": []
  },
  "kernelspec": {
   "display_name": "Python 3 (ipykernel)",
   "language": "python",
   "name": "python3"
  },
  "language_info": {
   "codemirror_mode": {
    "name": "ipython",
    "version": 3
   },
   "file_extension": ".py",
   "mimetype": "text/x-python",
   "name": "python",
   "nbconvert_exporter": "python",
   "pygments_lexer": "ipython3",
   "version": "3.8.2"
  }
 },
 "nbformat": 4,
 "nbformat_minor": 1
}
