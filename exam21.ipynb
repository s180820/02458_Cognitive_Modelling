{
 "cells": [
  {
   "cell_type": "code",
   "execution_count": 5,
   "metadata": {},
   "outputs": [],
   "source": [
    "import glob\n",
    "import numpy as np\n",
    "import cv2\n",
    "from matplotlib import pyplot as plt\n",
    "import pandas as pd\n",
    "from Exam.examtoolbox import *"
   ]
  },
  {
   "cell_type": "code",
   "execution_count": 2,
   "metadata": {},
   "outputs": [],
   "source": [
    "# The late MLE model of audiovisual integration\n",
    "\n",
    "# How many free parameters does the late MLE model have? What do they signify?\n",
    "# the late mle model has 4 free parameters. \n"
   ]
  },
  {
   "cell_type": "code",
   "execution_count": 22,
   "metadata": {},
   "outputs": [],
   "source": [
    "# data = pd.read_csv('Homework3pt2DataCSV1.txt')\n",
    "data = np.array([pd.read_csv(\"Assignment_3/Homework3pt2DataCSV{}.txt\".format(i), header = None, sep= \"\\s+\") for i in range(1,6)], dtype=int)"
   ]
  },
  {
   "cell_type": "code",
   "execution_count": 23,
   "metadata": {},
   "outputs": [],
   "source": [
    "df1 = pd.DataFrame(data[0])\n",
    "df2 = pd.DataFrame(data[1])\n",
    "df3 = pd.DataFrame(data[2])\n",
    "df4 = pd.DataFrame(data[3])\n",
    "df5 = pd.DataFrame(data[4])\n",
    "\n"
   ]
  },
  {
   "cell_type": "code",
   "execution_count": 24,
   "metadata": {},
   "outputs": [
    {
     "name": "stdout",
     "output_type": "stream",
     "text": [
      "Printing parameters for Late Fusion Model\n",
      "c_a:  3.2269960084055853\n",
      "c_v:  1.9353986228773137\n",
      "sigma_a:  1.3406117785863092\n",
      "sigma_v:  1.33444892308915\n",
      "Negative Loglikelihood Value: 95.30782910293745\n"
     ]
    }
   ],
   "source": [
    "df = df1\n",
    "model = MLE(n_responses=24, data=df)\n",
    "model.print_parameters(model='Late')"
   ]
  },
  {
   "cell_type": "code",
   "execution_count": 6,
   "metadata": {},
   "outputs": [
    {
     "name": "stderr",
     "output_type": "stream",
     "text": [
      "c:\\Dokumenter\\Dokumenter\\Git_Projects\\02458_Cognitive_Modelling\\Exam\\examtoolbox.py:551: RuntimeWarning: divide by zero encountered in log\n",
      "  nll_combi_list.append(np.log(stats.binom.pmf(self.x_av.iloc[i,j], self.n_responses, P_av[i,j])))\n",
      "c:\\Dokumenter\\Dokumenter\\Git_Projects\\02458_Cognitive_Modelling\\Exam\\examtoolbox.py:556: RuntimeWarning: divide by zero encountered in log\n",
      "  sum(np.log(stats.binom.pmf(self.x_v, self.n_responses, P_v))) - \\\n",
      "c:\\Users\\bayka\\AppData\\Local\\Programs\\Python\\Python39\\lib\\site-packages\\scipy\\optimize\\_numdiff.py:557: RuntimeWarning: invalid value encountered in subtract\n",
      "  df = fun(x) - f0\n",
      "c:\\Dokumenter\\Dokumenter\\Git_Projects\\02458_Cognitive_Modelling\\Exam\\examtoolbox.py:551: RuntimeWarning: divide by zero encountered in log\n",
      "  nll_combi_list.append(np.log(stats.binom.pmf(self.x_av.iloc[i,j], self.n_responses, P_av[i,j])))\n",
      "c:\\Dokumenter\\Dokumenter\\Git_Projects\\02458_Cognitive_Modelling\\Exam\\examtoolbox.py:556: RuntimeWarning: divide by zero encountered in log\n",
      "  sum(np.log(stats.binom.pmf(self.x_v, self.n_responses, P_v))) - \\\n",
      "c:\\Dokumenter\\Dokumenter\\Git_Projects\\02458_Cognitive_Modelling\\Exam\\examtoolbox.py:551: RuntimeWarning: divide by zero encountered in log\n",
      "  nll_combi_list.append(np.log(stats.binom.pmf(self.x_av.iloc[i,j], self.n_responses, P_av[i,j])))\n",
      "c:\\Users\\bayka\\AppData\\Local\\Programs\\Python\\Python39\\lib\\site-packages\\scipy\\optimize\\_numdiff.py:557: RuntimeWarning: invalid value encountered in subtract\n",
      "  df = fun(x) - f0\n"
     ]
    },
    {
     "name": "stdout",
     "output_type": "stream",
     "text": [
      "Printing parameters for Late Fusion Model\n",
      "c_a:  2.9748076532767183\n",
      "c_v:  2.0838671378495253\n",
      "sigma_a:  1.225764445245144\n",
      "sigma_v:  0.778622229719976\n",
      "Negative Loglikelihood Value: 71.04539084131243\n"
     ]
    }
   ],
   "source": [
    "df = df2\n",
    "model = MLE(n_responses=24, data=df)\n",
    "model.print_parameters(model='Late')"
   ]
  },
  {
   "cell_type": "code",
   "execution_count": 7,
   "metadata": {},
   "outputs": [
    {
     "name": "stderr",
     "output_type": "stream",
     "text": [
      "c:\\Dokumenter\\Dokumenter\\Git_Projects\\02458_Cognitive_Modelling\\Exam\\examtoolbox.py:551: RuntimeWarning: divide by zero encountered in log\n",
      "  nll_combi_list.append(np.log(stats.binom.pmf(self.x_av.iloc[i,j], self.n_responses, P_av[i,j])))\n",
      "c:\\Dokumenter\\Dokumenter\\Git_Projects\\02458_Cognitive_Modelling\\Exam\\examtoolbox.py:555: RuntimeWarning: divide by zero encountered in log\n",
      "  nll = -sum(np.log(stats.binom.pmf(self.x_a, self.n_responses, P_a))) - \\\n",
      "c:\\Users\\bayka\\AppData\\Local\\Programs\\Python\\Python39\\lib\\site-packages\\scipy\\optimize\\_numdiff.py:557: RuntimeWarning: invalid value encountered in subtract\n",
      "  df = fun(x) - f0\n",
      "c:\\Dokumenter\\Dokumenter\\Git_Projects\\02458_Cognitive_Modelling\\Exam\\examtoolbox.py:551: RuntimeWarning: divide by zero encountered in log\n",
      "  nll_combi_list.append(np.log(stats.binom.pmf(self.x_av.iloc[i,j], self.n_responses, P_av[i,j])))\n",
      "c:\\Dokumenter\\Dokumenter\\Git_Projects\\02458_Cognitive_Modelling\\Exam\\examtoolbox.py:555: RuntimeWarning: divide by zero encountered in log\n",
      "  nll = -sum(np.log(stats.binom.pmf(self.x_a, self.n_responses, P_a))) - \\\n",
      "c:\\Users\\bayka\\AppData\\Local\\Programs\\Python\\Python39\\lib\\site-packages\\scipy\\optimize\\_numdiff.py:557: RuntimeWarning: invalid value encountered in subtract\n",
      "  df = fun(x) - f0\n",
      "c:\\Dokumenter\\Dokumenter\\Git_Projects\\02458_Cognitive_Modelling\\Exam\\examtoolbox.py:551: RuntimeWarning: divide by zero encountered in log\n",
      "  nll_combi_list.append(np.log(stats.binom.pmf(self.x_av.iloc[i,j], self.n_responses, P_av[i,j])))\n"
     ]
    },
    {
     "name": "stdout",
     "output_type": "stream",
     "text": [
      "Printing parameters for Late Fusion Model\n",
      "c_a:  2.8552785202076856\n",
      "c_v:  2.1597129669942454\n",
      "sigma_a:  1.1188268843762137\n",
      "sigma_v:  1.6617203643945033\n",
      "Negative Loglikelihood Value: 78.33170110890718\n"
     ]
    }
   ],
   "source": [
    "df = df3\n",
    "model = MLE(n_responses=24, data=df)\n",
    "model.print_parameters(model='Late')"
   ]
  },
  {
   "cell_type": "code",
   "execution_count": 8,
   "metadata": {},
   "outputs": [
    {
     "name": "stderr",
     "output_type": "stream",
     "text": [
      "c:\\Dokumenter\\Dokumenter\\Git_Projects\\02458_Cognitive_Modelling\\Exam\\examtoolbox.py:551: RuntimeWarning: divide by zero encountered in log\n",
      "  nll_combi_list.append(np.log(stats.binom.pmf(self.x_av.iloc[i,j], self.n_responses, P_av[i,j])))\n",
      "c:\\Dokumenter\\Dokumenter\\Git_Projects\\02458_Cognitive_Modelling\\Exam\\examtoolbox.py:556: RuntimeWarning: divide by zero encountered in log\n",
      "  sum(np.log(stats.binom.pmf(self.x_v, self.n_responses, P_v))) - \\\n",
      "c:\\Users\\bayka\\AppData\\Local\\Programs\\Python\\Python39\\lib\\site-packages\\scipy\\optimize\\_numdiff.py:557: RuntimeWarning: invalid value encountered in subtract\n",
      "  df = fun(x) - f0\n",
      "c:\\Dokumenter\\Dokumenter\\Git_Projects\\02458_Cognitive_Modelling\\Exam\\examtoolbox.py:551: RuntimeWarning: divide by zero encountered in log\n",
      "  nll_combi_list.append(np.log(stats.binom.pmf(self.x_av.iloc[i,j], self.n_responses, P_av[i,j])))\n",
      "c:\\Dokumenter\\Dokumenter\\Git_Projects\\02458_Cognitive_Modelling\\Exam\\examtoolbox.py:556: RuntimeWarning: divide by zero encountered in log\n",
      "  sum(np.log(stats.binom.pmf(self.x_v, self.n_responses, P_v))) - \\\n",
      "c:\\Dokumenter\\Dokumenter\\Git_Projects\\02458_Cognitive_Modelling\\Exam\\examtoolbox.py:551: RuntimeWarning: divide by zero encountered in log\n",
      "  nll_combi_list.append(np.log(stats.binom.pmf(self.x_av.iloc[i,j], self.n_responses, P_av[i,j])))\n",
      "c:\\Dokumenter\\Dokumenter\\Git_Projects\\02458_Cognitive_Modelling\\Exam\\examtoolbox.py:555: RuntimeWarning: divide by zero encountered in log\n",
      "  nll = -sum(np.log(stats.binom.pmf(self.x_a, self.n_responses, P_a))) - \\\n",
      "c:\\Users\\bayka\\AppData\\Local\\Programs\\Python\\Python39\\lib\\site-packages\\scipy\\optimize\\_numdiff.py:557: RuntimeWarning: invalid value encountered in subtract\n",
      "  df = fun(x) - f0\n",
      "c:\\Dokumenter\\Dokumenter\\Git_Projects\\02458_Cognitive_Modelling\\Exam\\examtoolbox.py:551: RuntimeWarning: divide by zero encountered in log\n",
      "  nll_combi_list.append(np.log(stats.binom.pmf(self.x_av.iloc[i,j], self.n_responses, P_av[i,j])))\n",
      "c:\\Dokumenter\\Dokumenter\\Git_Projects\\02458_Cognitive_Modelling\\Exam\\examtoolbox.py:555: RuntimeWarning: divide by zero encountered in log\n",
      "  nll = -sum(np.log(stats.binom.pmf(self.x_a, self.n_responses, P_a))) - \\\n",
      "c:\\Dokumenter\\Dokumenter\\Git_Projects\\02458_Cognitive_Modelling\\Exam\\examtoolbox.py:551: RuntimeWarning: divide by zero encountered in log\n",
      "  nll_combi_list.append(np.log(stats.binom.pmf(self.x_av.iloc[i,j], self.n_responses, P_av[i,j])))\n",
      "c:\\Dokumenter\\Dokumenter\\Git_Projects\\02458_Cognitive_Modelling\\Exam\\examtoolbox.py:555: RuntimeWarning: divide by zero encountered in log\n",
      "  nll = -sum(np.log(stats.binom.pmf(self.x_a, self.n_responses, P_a))) - \\\n",
      "c:\\Users\\bayka\\AppData\\Local\\Programs\\Python\\Python39\\lib\\site-packages\\scipy\\optimize\\_numdiff.py:557: RuntimeWarning: invalid value encountered in subtract\n",
      "  df = fun(x) - f0\n",
      "c:\\Dokumenter\\Dokumenter\\Git_Projects\\02458_Cognitive_Modelling\\Exam\\examtoolbox.py:551: RuntimeWarning: divide by zero encountered in log\n",
      "  nll_combi_list.append(np.log(stats.binom.pmf(self.x_av.iloc[i,j], self.n_responses, P_av[i,j])))\n",
      "c:\\Dokumenter\\Dokumenter\\Git_Projects\\02458_Cognitive_Modelling\\Exam\\examtoolbox.py:556: RuntimeWarning: divide by zero encountered in log\n",
      "  sum(np.log(stats.binom.pmf(self.x_v, self.n_responses, P_v))) - \\\n",
      "c:\\Users\\bayka\\AppData\\Local\\Programs\\Python\\Python39\\lib\\site-packages\\scipy\\optimize\\_numdiff.py:557: RuntimeWarning: invalid value encountered in subtract\n",
      "  df = fun(x) - f0\n",
      "c:\\Dokumenter\\Dokumenter\\Git_Projects\\02458_Cognitive_Modelling\\Exam\\examtoolbox.py:551: RuntimeWarning: divide by zero encountered in log\n",
      "  nll_combi_list.append(np.log(stats.binom.pmf(self.x_av.iloc[i,j], self.n_responses, P_av[i,j])))\n",
      "c:\\Dokumenter\\Dokumenter\\Git_Projects\\02458_Cognitive_Modelling\\Exam\\examtoolbox.py:556: RuntimeWarning: divide by zero encountered in log\n",
      "  sum(np.log(stats.binom.pmf(self.x_v, self.n_responses, P_v))) - \\\n"
     ]
    },
    {
     "name": "stdout",
     "output_type": "stream",
     "text": [
      "Printing parameters for Late Fusion Model\n",
      "c_a:  3.281946932441871\n",
      "c_v:  3.241809315664817\n",
      "sigma_a:  0.8067854599737272\n",
      "sigma_v:  1.800145644278916\n",
      "Negative Loglikelihood Value: 75.68628487852396\n"
     ]
    }
   ],
   "source": [
    "df = df4\n",
    "model = MLE(n_responses=24, data=df)\n",
    "model.print_parameters(model='Late')"
   ]
  },
  {
   "cell_type": "markdown",
   "metadata": {},
   "source": [
    "# part 2"
   ]
  },
  {
   "cell_type": "code",
   "execution_count": 6,
   "metadata": {},
   "outputs": [],
   "source": [
    "n_trials = 50"
   ]
  },
  {
   "cell_type": "code",
   "execution_count": 7,
   "metadata": {},
   "outputs": [
    {
     "name": "stdout",
     "output_type": "stream",
     "text": [
      "slope [0.53073571] intercept 1.016446323369272\n",
      "mu is [1.91516475], and sigma is [1.88417697]\n"
     ]
    }
   ],
   "source": [
    "non_excited = np.array([4, 15, 22, 7, 2])\n",
    "excited = np.array([2, 4, 8, 10, 26])\n",
    "\n",
    "tp_c1 = excited[4] / n_trials\n",
    "tp_c2 = (excited[4] + excited[3]) / n_trials\n",
    "tp_c3 = (excited[4] + excited[3] + excited[2]) / n_trials\n",
    "tp_c4 = (excited[4] + excited[3] + excited[2] + excited[1]) / n_trials\n",
    "\n",
    "tn_c1 = (non_excited[0]) / n_trials\n",
    "tn_c2 = (non_excited[0] + non_excited[1]) / n_trials\n",
    "tn_c3 = (non_excited[0] + non_excited[1] + non_excited[2]) / n_trials\n",
    "tn_c4 = (non_excited[0] + non_excited[1] + non_excited[2] + non_excited[3]) / n_trials\n",
    "\n",
    "fp_c1 = (non_excited[4]) / n_trials\n",
    "fp_c2 = (non_excited[4] + non_excited[3]) / n_trials\n",
    "fp_c3 = (non_excited[4] + non_excited[3] + non_excited[2]) / n_trials\n",
    "fp_c4 = (non_excited[4] + non_excited[3] + non_excited[2] + non_excited[1]) / n_trials\n",
    "\n",
    "fn_c1 = (excited[0]) / n_trials\n",
    "fn_c2 = (excited[0] + excited[1]) / n_trials\n",
    "fn_c3 = (excited[0] + excited[1] + excited[2]) / n_trials\n",
    "fn_c4 = (excited[0] + excited[1] + excited[2] + excited[3]) / n_trials\n",
    "\n",
    "y = np.array([norm.ppf(tp_c1), norm.ppf(tp_c2), norm.ppf(tp_c3), norm.ppf(tp_c4)])\n",
    "x = np.array([norm.ppf(fp_c1), norm.ppf(fp_c2), norm.ppf(fp_c3), norm.ppf(fp_c4)]).reshape((-1,1))\n",
    "\n",
    "from sklearn.linear_model import LinearRegression\n",
    "model = LinearRegression().fit(x, y)\n",
    "slope, intercept = model.coef_, model.intercept_\n",
    "mu = 1/slope*intercept\n",
    "sigma = 1/slope\n",
    "print('slope {} intercept {}'.format(slope, intercept))\n",
    "print(f'mu is {mu}, and sigma is {sigma}')"
   ]
  },
  {
   "cell_type": "code",
   "execution_count": 18,
   "metadata": {},
   "outputs": [
    {
     "data": {
      "text/plain": [
       "0.34561451094253637"
      ]
     },
     "execution_count": 18,
     "metadata": {},
     "output_type": "execute_result"
    }
   ],
   "source": [
    "#rebin 2-5\n",
    "from scipy.stats import norm\n",
    "d_prime12 = norm.ppf(tp_c4)-norm.ppf(fp_c4)\n",
    "d_prime12"
   ]
  },
  {
   "cell_type": "code",
   "execution_count": 19,
   "metadata": {},
   "outputs": [
    {
     "data": {
      "text/plain": [
       "1.8008396547169037"
      ]
     },
     "execution_count": 19,
     "metadata": {},
     "output_type": "execute_result"
    }
   ],
   "source": [
    "d_prime45 = norm.ppf(tp_c1)-norm.ppf(fp_c1)\n",
    "d_prime45"
   ]
  },
  {
   "cell_type": "markdown",
   "metadata": {},
   "source": [
    "# part 3"
   ]
  },
  {
   "cell_type": "code",
   "execution_count": null,
   "metadata": {},
   "outputs": [],
   "source": [
    "# Bayesian observer theory \n",
    "\n",
    "# A cat sits in complete darkness in front of two holes 20 cm apart. The holes are tiny. The cat\n",
    "# knows the location of the holes. It also knows that for every mouse that comes out of the\n",
    "# left hole three mice comes out of the right hole. The occurrence of mice coming out of the\n",
    "# holes seems quite random. The cat now hears a mouse squeak. The location of the mouse\n",
    "# appears (to the cat) to be between the holes: 5 cm from the left hole and 15 cm from the\n",
    "# right hole. There are no mice outside of the holes, so the cat knows that the sound must\n",
    "# come from one of the holes.\n",
    "\n",
    "# The cat's auditory system is not quite accurate so its estimate of the location of a mouse\n",
    "# squeak varies around the true location as a normal distribution with a standard deviation of\n",
    "# 10 cm.\n",
    "# \n",
    "# Which hole will the cat target given that it behaves according to a maximum a\n",
    "# posteriori probability decision rule? Describe how you arrived at the result in detail.\n",
    "\n",
    "# Likelihood P(x | left) = f(x | mu, sigma) = f(5 | 0, 10) = 0.035   HERE::: norm.pdf(5, 0, 10)\n",
    "# Likelihood P(x | right) = f(x | mu, sigma) = f(5 | 20, 10) = 0.013 HERE::: norm.pdf(5, 20, 10)\n",
    "# Prior P(left) = 0.25\n",
    "# Prior P(right) = 0.75\n",
    "# P(x | left) P(left) = 0.088    HERE::: norm.pdf(5, 0, 10)*0.25\n",
    "# P(x | right) P(right) = 0.097\n",
    "# Cat will choose right"
   ]
  },
  {
   "cell_type": "code",
   "execution_count": 19,
   "metadata": {},
   "outputs": [
    {
     "data": {
      "text/plain": [
       "0.008801633169107488"
      ]
     },
     "execution_count": 19,
     "metadata": {},
     "output_type": "execute_result"
    }
   ],
   "source": [
    "norm.pdf(5, 0, 10)*0.25\n",
    "\n",
    "\n",
    "\n"
   ]
  },
  {
   "cell_type": "code",
   "execution_count": null,
   "metadata": {},
   "outputs": [],
   "source": []
  }
 ],
 "metadata": {
  "kernelspec": {
   "display_name": "Python 3.10.6 64-bit",
   "language": "python",
   "name": "python3"
  },
  "language_info": {
   "codemirror_mode": {
    "name": "ipython",
    "version": 3
   },
   "file_extension": ".py",
   "mimetype": "text/x-python",
   "name": "python",
   "nbconvert_exporter": "python",
   "pygments_lexer": "ipython3",
   "version": "3.10.6"
  },
  "orig_nbformat": 4,
  "vscode": {
   "interpreter": {
    "hash": "b0fa6594d8f4cbf19f97940f81e996739fb7646882a419484c72d19e05852a7e"
   }
  }
 },
 "nbformat": 4,
 "nbformat_minor": 2
}
