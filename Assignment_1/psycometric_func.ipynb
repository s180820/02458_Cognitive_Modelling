{
 "cells": [
  {
   "cell_type": "markdown",
   "metadata": {
    "cell_id": "b3f66b7fd2b54349805a8ca19f1f5968",
    "deepnote_cell_type": "text-cell-h1",
    "formattedRanges": [],
    "is_collapsed": false,
    "tags": []
   },
   "source": [
    "# Psychometric Functions"
   ]
  },
  {
   "cell_type": "code",
   "execution_count": 1,
   "metadata": {
    "cell_id": "0f82b6b322644d82bdf4ec6f1f839072",
    "deepnote_cell_type": "code",
    "deepnote_to_be_reexecuted": false,
    "execution_millis": 2248,
    "execution_start": 1663270461776,
    "source_hash": "e850862b",
    "tags": []
   },
   "outputs": [],
   "source": [
    "# Start writing code import matplotlib.pyplot as plt\n",
    "import matplotlib.pyplot as plt\n",
    "import numpy as np\n",
    "from scipy.stats import norm\n",
    "from sympy import *\n",
    "from cProfile import label  \n",
    "\n",
    "N_r = 30\n",
    "\n",
    "stimulus_intensity = [5, 10, 15, 20, 25, 30] \n",
    "I_s = np.array(stimulus_intensity)\n",
    "number_of_correct_responses = [12, 11, 19, 27, 30, 30] \n",
    "N_c = np.array(number_of_correct_responses)\n",
    "P_c = N_c/N_r #Probability of right answer for each stimulus intensity \n",
    "P_guess = 1/3 #Since there are 3 classes, the probability is 1/3"
   ]
  },
  {
   "cell_type": "code",
   "execution_count": 2,
   "metadata": {
    "cell_id": "e45beb8bdb6e4513bf38ddb4c7989e84",
    "deepnote_cell_height": 790.0625,
    "deepnote_cell_type": "code",
    "deepnote_output_heights": [
     116.125,
     20.1875
    ],
    "deepnote_to_be_reexecuted": false,
    "execution_millis": 46,
    "execution_start": 1663270464047,
    "source_hash": "a2af23d6",
    "tags": []
   },
   "outputs": [
    {
     "name": "stdout",
     "output_type": "stream",
     "text": [
      "      fun: 11.315347372636937\n",
      " hess_inv: <2x2 LbfgsInvHessProduct with dtype=float64>\n",
      "      jac: array([ 3.55271338e-07, -5.32907008e-07])\n",
      "  message: 'CONVERGENCE: NORM_OF_PROJECTED_GRADIENT_<=_PGTOL'\n",
      "     nfev: 33\n",
      "      nit: 10\n",
      "     njev: 11\n",
      "   status: 0\n",
      "  success: True\n",
      "        x: array([10.1318483 ,  8.19082612])\n"
     ]
    },
    {
     "data": {
      "text/plain": [
       "11.315347372636937"
      ]
     },
     "execution_count": 2,
     "metadata": {},
     "output_type": "execute_result"
    }
   ],
   "source": [
    "from scipy.optimize import minimize\n",
    "\n",
    "def NLL_psycho(parameters):\n",
    "    c = parameters[0]\n",
    "    sigma = parameters[1]\n",
    "    L = 0\n",
    "    for i in range(len(stimulus_intensity)):\n",
    "        P_s = norm.cdf((stimulus_intensity[i]-c)/sigma)\n",
    "        log_NS = 0\n",
    "        log_ns = 0\n",
    "        log_Nns = 0\n",
    "        for j in range(N_r):\n",
    "            log_NS += np.log(j+1)\n",
    "        for j in range(N_c[i]):\n",
    "            log_ns += np.log(j+1)\n",
    "        for j in range(N_r - N_c[i]):\n",
    "            log_Nns += np.log(j+1)\n",
    "        if N_r - N_c[i] == 0:\n",
    "            L += log_NS - log_ns - log_Nns + N_c[i]*np.log(P_s)\n",
    "        else:\n",
    "            L += log_NS - log_ns - log_Nns + N_c[i]*np.log(P_s) + (N_r - N_c[i]) * np.log(1 - P_s)\n",
    "    return -L\n",
    "        \n",
    "res = minimize(NLL_psycho, np.array([15, 5]), method='L-BFGS-B')\n",
    "print(res)\n",
    "res.fun"
   ]
  },
  {
   "cell_type": "code",
   "execution_count": 3,
   "metadata": {
    "cell_id": "69f83342359c4028b388e512c169dd15",
    "deepnote_cell_height": 772.0625,
    "deepnote_cell_type": "code",
    "deepnote_output_heights": [
     null,
     20.1875
    ],
    "deepnote_to_be_reexecuted": false,
    "execution_millis": 50,
    "execution_start": 1663270465092,
    "source_hash": "5f0dcdf2",
    "tags": []
   },
   "outputs": [
    {
     "name": "stdout",
     "output_type": "stream",
     "text": [
      "      fun: 7.637350852186732\n",
      " hess_inv: <2x2 LbfgsInvHessProduct with dtype=float64>\n",
      "      jac: array([-2.66453504e-07, -1.24344980e-06])\n",
      "  message: 'CONVERGENCE: NORM_OF_PROJECTED_GRADIENT_<=_PGTOL'\n",
      "     nfev: 24\n",
      "      nit: 7\n",
      "     njev: 8\n",
      "   status: 0\n",
      "  success: True\n",
      "        x: array([15.69202769,  3.77808342])\n"
     ]
    },
    {
     "data": {
      "text/plain": [
       "7.637350852186732"
      ]
     },
     "execution_count": 3,
     "metadata": {},
     "output_type": "execute_result"
    }
   ],
   "source": [
    "def NLL_HT(parameters):\n",
    "    c = parameters[0]\n",
    "    sigma = parameters[1]\n",
    "    L = 0\n",
    "    for i in range(len(stimulus_intensity)):\n",
    "        x = norm.cdf((stimulus_intensity[i]-c)/sigma)\n",
    "        P_s = x + (1 - x)*P_guess\n",
    "        log_NS = 0\n",
    "        log_ns = 0\n",
    "        log_Nns = 0\n",
    "        for j in range(N_r):\n",
    "            log_NS += np.log(j+1)\n",
    "        for j in range(N_c[i]):\n",
    "            log_ns += np.log(j+1)\n",
    "        for j in range(N_r - N_c[i]):\n",
    "            log_Nns += np.log(j+1)\n",
    "        if N_r - N_c[i] == 0:\n",
    "            L += log_NS - log_ns - log_Nns + N_c[i]*np.log(P_s)\n",
    "        else:\n",
    "            L += log_NS - log_ns - log_Nns + N_c[i]*np.log(P_s) + (N_r - N_c[i]) * np.log(1 - P_s)\n",
    "    return -L\n",
    "        \n",
    "res = minimize(NLL_HT, np.array([15, 5]), method='L-BFGS-B')\n",
    "print(res)\n",
    "res.fun"
   ]
  },
  {
   "cell_type": "code",
   "execution_count": 4,
   "metadata": {
    "cell_id": "c0fd92fc7b8341d58cb45efeaf83d30a",
    "deepnote_cell_height": 955.375,
    "deepnote_cell_type": "code",
    "deepnote_output_heights": [
     null,
     433
    ],
    "deepnote_to_be_reexecuted": false,
    "execution_millis": 534,
    "execution_start": 1663270466226,
    "source_hash": "e08544a4",
    "tags": []
   },
   "outputs": [
    {
     "name": "stdout",
     "output_type": "stream",
     "text": [
      "[0.2654816622123145, 0.49357844176838833, 0.7238582550064547, 0.8858560453137289, 0.9652549365448729, 0.9923596872502354]\n",
      "[0.33488486722297145, 0.37730514781402025, 0.6182218107310878, 0.9152730789706359, 0.9954159841307302, 0.9999491943422207]\n"
     ]
    },
    {
     "data": {
      "image/png": "[encoded data removed]",
      "text/plain": [
       "<Figure size 432x288 with 1 Axes>"
      ]
     },
     "metadata": {
      "needs_background": "light"
     },
     "output_type": "display_data"
    }
   ],
   "source": [
    "c_psy, c_ht = 10.131849, 15.69202769\n",
    "sigma_psy, sigma_ht = 8.19082648, 3.77808342\n",
    "P_s_psy = []\n",
    "P_s_th = []\n",
    "for i in range(len(stimulus_intensity)):\n",
    "    P_spsy = norm.cdf((stimulus_intensity[i]-c_psy)/sigma_psy)\n",
    "    x = norm.cdf((stimulus_intensity[i]-c_ht)/sigma_ht)\n",
    "    P_sht = x + (1 - x)*P_guess\n",
    "    P_s_psy.append(P_spsy)\n",
    "    P_s_th.append(P_sht)\n",
    "\n",
    "print(P_s_psy)\n",
    "print(P_s_th)\n",
    "\n",
    "plt.plot(stimulus_intensity, P_s_psy,  alpha=0.6, label='Psychometric function')\n",
    "plt.plot(stimulus_intensity, P_s_th, label= 'High Threshold model')\n",
    "plt.plot(stimulus_intensity, P_c, label = 'Experimental data')\n",
    "plt.xlabel('Stimulus intensity')\n",
    "plt.ylabel('Proportion correct')\n",
    "plt.legend()\n",
    "plt.show()"
   ]
  },
  {
   "cell_type": "code",
   "execution_count": null,
   "metadata": {},
   "outputs": [],
   "source": []
  }
 ],
 "metadata": {
  "kernelspec": {
   "display_name": "Python 3.8.13 ('katrine_personal_env')",
   "language": "python",
   "name": "python3"
  },
  "language_info": {
   "codemirror_mode": {
    "name": "ipython",
    "version": 3
   },
   "file_extension": ".py",
   "mimetype": "text/x-python",
   "name": "python",
   "nbconvert_exporter": "python",
   "pygments_lexer": "ipython3",
   "version": "3.8.13"
  },
  "orig_nbformat": 4,
  "vscode": {
   "interpreter": {
    "hash": "23b47e8941e9532a227126a88d0aed60e854f3b3d5618484cace29efe7d4fdfe"
   }
  }
 },
 "nbformat": 4,
 "nbformat_minor": 2
}
