{
 "cells": [
  {
   "cell_type": "markdown",
   "metadata": {},
   "source": [
    "# Equal variance model"
   ]
  },
  {
   "cell_type": "code",
   "execution_count": 7,
   "metadata": {},
   "outputs": [],
   "source": [
    "# initialising\n",
    "import matplotlib.pyplot as plt\n",
    "import numpy as np\n",
    "import scipy\n",
    "from scipy.stats import norm\n",
    "import pandas as pd\n",
    "# from examtoolbox import *"
   ]
  },
  {
   "cell_type": "code",
   "execution_count": 16,
   "metadata": {},
   "outputs": [],
   "source": [
    "# generate 100 experiments\n",
    "n_experiments = 100\n",
    "n_trials = 50\n",
    "mu_s = 1\n",
    "mu_s0 = 0\n",
    "sigma = 1\n",
    "\n",
    "\n",
    "# generate 1 experiments - just for the understanding\n",
    "experiments_sti = np.random.normal(mu_s, sigma, (n_trials))\n",
    "experiments_nosti = np.random.normal(mu_s0, sigma, (n_trials))\n",
    "c_unb, c_b_yes, c_b_no = 0.5, 0.3, 0.7\n"
   ]
  },
  {
   "cell_type": "code",
   "execution_count": 17,
   "metadata": {
    "cell_id": "eb009a8a4d5942129209b78fbd54b1dc",
    "deepnote_cell_height": 598,
    "deepnote_cell_type": "code",
    "deepnote_to_be_reexecuted": false,
    "execution_millis": 1572,
    "execution_start": 1663230607683,
    "source_hash": "6dd25637",
    "tags": []
   },
   "outputs": [],
   "source": [
    "# computing the d's\n",
    "c_unb, c_b_yes, c_b_no = 0.5, 0.3, 0.7\n",
    "\n",
    "n_experiments = 100\n",
    "n_trials = 50\n",
    "mu_s = 1\n",
    "mu_s0 = 0\n",
    "sigma = 1\n",
    "\n",
    "N_s = 50\n",
    "N_s0 = 50\n",
    "\n",
    "d_prime_unb = []\n",
    "d_prime_b_yes = []\n",
    "d_prime_b_no = []\n",
    "\n",
    "for c in [c_unb, c_b_yes,c_b_no ]:\n",
    "    \n",
    "    for i in range(100):\n",
    "        n_tp = sum(np.random.normal(mu_s, sigma, (n_trials)) > c)\n",
    "        n_fp = sum(np.random.normal(mu_s0, sigma, (n_trials)) > c)\n",
    "\n",
    "        if c == c_unb:\n",
    "            d_prime_unb.append(norm.ppf(n_tp/N_s)-norm.ppf(n_fp/N_s))\n",
    "        elif c == c_b_yes:\n",
    "            d_prime_b_yes.append(norm.ppf(n_tp/N_s)-norm.ppf(n_fp/N_s))\n",
    "        elif c == c_b_no:\n",
    "            d_prime_b_no.append(norm.ppf(n_tp/N_s)-norm.ppf(n_fp/N_s))\n",
    "\n"
   ]
  },
  {
   "cell_type": "code",
   "execution_count": 29,
   "metadata": {
    "cell_id": "dd5b93d2019b4ba8bb73cfaf61a1fa95",
    "deepnote_cell_height": 1796.1875,
    "deepnote_cell_type": "code",
    "deepnote_output_heights": [
     436,
     436,
     436
    ],
    "deepnote_to_be_reexecuted": false,
    "execution_millis": 3156,
    "execution_start": 1663230609255,
    "source_hash": "155e705d",
    "tags": []
   },
   "outputs": [
    {
     "data": {
      "image/png": "[encoded data removed]",
      "text/plain": [
       "<Figure size 432x288 with 1 Axes>"
      ]
     },
     "metadata": {
      "needs_background": "light"
     },
     "output_type": "display_data"
    },
    {
     "data": {
      "image/png": "[encoded data removed]",
      "text/plain": [
       "<Figure size 432x288 with 1 Axes>"
      ]
     },
     "metadata": {
      "needs_background": "light"
     },
     "output_type": "display_data"
    },
    {
     "data": {
      "image/png": "[encoded data removed]",
      "text/plain": [
       "<Figure size 432x288 with 1 Axes>"
      ]
     },
     "metadata": {
      "needs_background": "light"
     },
     "output_type": "display_data"
    },
    {
     "name": "stdout",
     "output_type": "stream",
     "text": [
      "The d primes are: \n",
      "the unbiased 1.0313376187191685 \n",
      "the yes biased 1.0423865010413058 \n",
      "the no biased  1.0120570452540625\n"
     ]
    }
   ],
   "source": [
    "\n",
    "plt.hist(d_prime_unb, bins=30)\n",
    "plt.title(\"Unbiased - d'\")\n",
    "\n",
    "plt.show()\n",
    "\n",
    "plt.hist(d_prime_b_yes, bins=30)\n",
    "plt.title(\"Biased towards yes - d'\")\n",
    "\n",
    "plt.show()\n",
    "\n",
    "plt.hist(d_prime_b_no, bins=30)\n",
    "plt.title(\"Biased towards no - d'\")\n",
    "\n",
    "plt.show()\n",
    "print(f'The d primes are: \\nthe unbiased' , np.mean(d_prime_unb), '\\nthe yes biased' ,  np.mean(d_prime_b_yes) ,'\\nthe no biased '  , np.mean(d_prime_b_no ))\n"
   ]
  },
  {
   "cell_type": "markdown",
   "metadata": {},
   "source": [
    "# Unequal variance model"
   ]
  },
  {
   "cell_type": "code",
   "execution_count": 30,
   "metadata": {
    "cell_id": "8f4c2238102b4ac18eba1bbca5acb6ee",
    "deepnote_cell_height": 634,
    "deepnote_cell_type": "code",
    "deepnote_to_be_reexecuted": false,
    "execution_millis": 90,
    "execution_start": 1663236532828,
    "source_hash": "a62e4585",
    "tags": []
   },
   "outputs": [],
   "source": [
    "c_unb, c_b_yes, c_b_no = 0.5, 0.3, 0.7\n",
    "\n",
    "n_experiments = 100\n",
    "n_trials = 50\n",
    "mu_s = 1\n",
    "mu_s0 = 0\n",
    "sigma = 0.8\n",
    "\n",
    "# todo \n",
    "sigma_s0=1\n",
    "\n",
    "N_s = 50\n",
    "N_s0 = 50\n",
    "\n",
    "d_prime_unb = []\n",
    "d_prime_b_yes = []\n",
    "d_prime_b_no = []\n",
    "\n",
    "for c in [c_unb, c_b_yes,c_b_no ]:\n",
    "    \n",
    "    for i in range(100):\n",
    "        n_tp = sum(np.random.normal(mu_s, sigma, (n_trials)) > c)\n",
    "        n_fp = sum(np.random.normal(mu_s0, sigma_s0, (n_trials)) > c)\n",
    "\n",
    "        if c == c_unb:\n",
    "            d_prime_unb.append(norm.ppf(n_tp/N_s)-norm.ppf(n_fp/N_s))\n",
    "        elif c == c_b_yes:\n",
    "            d_prime_b_yes.append(norm.ppf(n_tp/N_s)-norm.ppf(n_fp/N_s))\n",
    "        elif c == c_b_no:\n",
    "            d_prime_b_no.append(norm.ppf(n_tp/N_s)-norm.ppf(n_fp/N_s))\n",
    "\n"
   ]
  },
  {
   "cell_type": "code",
   "execution_count": 31,
   "metadata": {
    "cell_id": "1ecee6dad9fe4a148db51894ad6afa38",
    "deepnote_cell_height": 1783.1875,
    "deepnote_cell_type": "code",
    "deepnote_output_heights": [
     436,
     436,
     20.1875,
     436
    ],
    "deepnote_to_be_reexecuted": false,
    "execution_millis": 817,
    "execution_start": 1663236536418,
    "source_hash": "df06f4af",
    "tags": []
   },
   "outputs": [
    {
     "data": {
      "image/png": "[encoded data removed]",
      "text/plain": [
       "<Figure size 432x288 with 1 Axes>"
      ]
     },
     "metadata": {
      "needs_background": "light"
     },
     "output_type": "display_data"
    },
    {
     "data": {
      "image/png": "[encoded data removed]",
      "text/plain": [
       "<Figure size 432x288 with 1 Axes>"
      ]
     },
     "metadata": {
      "needs_background": "light"
     },
     "output_type": "display_data"
    },
    {
     "data": {
      "text/plain": [
       "Text(0.5, 1.0, \"Biased towards no - d'\")"
      ]
     },
     "execution_count": 31,
     "metadata": {},
     "output_type": "execute_result"
    },
    {
     "data": {
      "image/png": "[encoded data removed]",
      "text/plain": [
       "<Figure size 432x288 with 1 Axes>"
      ]
     },
     "metadata": {
      "needs_background": "light"
     },
     "output_type": "display_data"
    }
   ],
   "source": [
    "# plt.hist(d_prime_unb, bins=20)\n",
    "plt.hist(d_prime_unb, density=True, histtype='stepfilled', alpha=0.2, bins=20)\n",
    "plt.title(\"Unbiased - d'\")\n",
    "plt.show()\n",
    "# plt.hist(d_prime_b_yes, bins=20)\n",
    "plt.hist(d_prime_b_yes, density=True, histtype='stepfilled', alpha=0.2, bins=20)\n",
    "plt.title(\"Biased towards yes - d'\" )\n",
    "\n",
    "plt.show()\n",
    "# plt.hist(d_prime_b_no, bins=20)\n",
    "plt.hist(d_prime_b_no, density=True, histtype='stepfilled', alpha=0.2, bins=20)\n",
    "plt.title(\"Biased towards no - d'\")\n"
   ]
  },
  {
   "cell_type": "code",
   "execution_count": 32,
   "metadata": {
    "cell_id": "1545f4b07c414a208de0a005f06d566a",
    "deepnote_cell_height": 107.1875,
    "deepnote_cell_type": "code",
    "deepnote_to_be_reexecuted": false,
    "execution_millis": 79,
    "execution_start": 1663236539024,
    "source_hash": "8e366642",
    "tags": []
   },
   "outputs": [
    {
     "name": "stdout",
     "output_type": "stream",
     "text": [
      "The d primes are: \n",
      "the unbiased 1.2013876453057621 \n",
      "the yes biased 1.1911983880565908 \n",
      "the no biased  1.155487212808627\n"
     ]
    }
   ],
   "source": [
    "print(f'The d primes are: \\nthe unbiased' , np.mean(d_prime_unb), '\\nthe yes biased' ,  np.mean(d_prime_b_yes) ,'\\nthe no biased '  , np.mean(d_prime_b_no ))\n"
   ]
  },
  {
   "cell_type": "code",
   "execution_count": null,
   "metadata": {},
   "outputs": [],
   "source": []
  }
 ],
 "metadata": {
  "kernelspec": {
   "display_name": "Python 3.9.4 64-bit",
   "language": "python",
   "name": "python3"
  },
  "language_info": {
   "codemirror_mode": {
    "name": "ipython",
    "version": 3
   },
   "file_extension": ".py",
   "mimetype": "text/x-python",
   "name": "python",
   "nbconvert_exporter": "python",
   "pygments_lexer": "ipython3",
   "version": "3.9.4"
  },
  "orig_nbformat": 4,
  "vscode": {
   "interpreter": {
    "hash": "a84faab740edc2ffcdbf4168f32bd03a4e5724d7f9fad76844773b2af875e96a"
   }
  }
 },
 "nbformat": 4,
 "nbformat_minor": 2
}
