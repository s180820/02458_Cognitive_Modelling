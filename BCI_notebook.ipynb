{
 "cells": [
  {
   "cell_type": "code",
   "execution_count": 1,
   "metadata": {},
   "outputs": [],
   "source": [
    "from Exam.examtoolbox import *\n",
    "import pandas as pd\n",
    "import numpy as np\n"
   ]
  },
  {
   "cell_type": "code",
   "execution_count": 2,
   "metadata": {},
   "outputs": [],
   "source": [
    "data = pd.read_csv(\"Exam/test_data/Homework3pt2DataCSV1.txt\", header = None, sep= \"\\s+\")"
   ]
  },
  {
   "cell_type": "code",
   "execution_count": 3,
   "metadata": {},
   "outputs": [],
   "source": [
    "model = BCI(n_responses=24, data=data)"
   ]
  },
  {
   "cell_type": "code",
   "execution_count": 4,
   "metadata": {},
   "outputs": [
    {
     "name": "stderr",
     "output_type": "stream",
     "text": [
      "c:\\Dokumenter\\Dokumenter\\Git_Projects\\02458_Cognitive_Modelling\\Exam\\examtoolbox.py:644: RuntimeWarning: divide by zero encountered in log\n",
      "  nll = -sum(np.log(stats.binom.pmf(self.x_a, self.n_responses, Pa))) - sum(np.log(stats.binom.pmf(self.x_v, self.n_responses, Pv))) - sum(L)\n",
      "c:\\Users\\bayka\\AppData\\Local\\Programs\\Python\\Python39\\lib\\site-packages\\scipy\\optimize\\_numdiff.py:557: RuntimeWarning: invalid value encountered in subtract\n",
      "  df = fun(x) - f0\n",
      "c:\\Dokumenter\\Dokumenter\\Git_Projects\\02458_Cognitive_Modelling\\Exam\\examtoolbox.py:644: RuntimeWarning: divide by zero encountered in log\n",
      "  nll = -sum(np.log(stats.binom.pmf(self.x_a, self.n_responses, Pa))) - sum(np.log(stats.binom.pmf(self.x_v, self.n_responses, Pv))) - sum(L)\n",
      "c:\\Dokumenter\\Dokumenter\\Git_Projects\\02458_Cognitive_Modelling\\Exam\\examtoolbox.py:644: RuntimeWarning: divide by zero encountered in log\n",
      "  nll = -sum(np.log(stats.binom.pmf(self.x_a, self.n_responses, Pa))) - sum(np.log(stats.binom.pmf(self.x_v, self.n_responses, Pv))) - sum(L)\n",
      "c:\\Users\\bayka\\AppData\\Local\\Programs\\Python\\Python39\\lib\\site-packages\\scipy\\optimize\\_numdiff.py:557: RuntimeWarning: invalid value encountered in subtract\n",
      "  df = fun(x) - f0\n",
      "c:\\Dokumenter\\Dokumenter\\Git_Projects\\02458_Cognitive_Modelling\\Exam\\examtoolbox.py:642: RuntimeWarning: divide by zero encountered in log\n",
      "  L.append(np.log(stats.binom.pmf(self.x_av.iloc[i,j], self.n_responses, P_av_BCI[i,j])))\n",
      "c:\\Dokumenter\\Dokumenter\\Git_Projects\\02458_Cognitive_Modelling\\Exam\\examtoolbox.py:644: RuntimeWarning: divide by zero encountered in log\n",
      "  nll = -sum(np.log(stats.binom.pmf(self.x_a, self.n_responses, Pa))) - sum(np.log(stats.binom.pmf(self.x_v, self.n_responses, Pv))) - sum(L)\n",
      "c:\\Users\\bayka\\AppData\\Local\\Programs\\Python\\Python39\\lib\\site-packages\\scipy\\optimize\\_numdiff.py:557: RuntimeWarning: invalid value encountered in subtract\n",
      "  df = fun(x) - f0\n",
      "c:\\Dokumenter\\Dokumenter\\Git_Projects\\02458_Cognitive_Modelling\\Exam\\examtoolbox.py:642: RuntimeWarning: divide by zero encountered in log\n",
      "  L.append(np.log(stats.binom.pmf(self.x_av.iloc[i,j], self.n_responses, P_av_BCI[i,j])))\n"
     ]
    },
    {
     "name": "stdout",
     "output_type": "stream",
     "text": [
      "Printing parameters for Early Fusion Model\n",
      "c_a:  3.2422442686548285\n",
      "c_v:  1.8633410221283526\n",
      "sigma_a:  0.868333677510699\n",
      "sigma_v:  0.8580968946132604\n",
      "c:  0.9593352797407192\n",
      "Negative Loglikelihood Value: 71.6112275178423\n"
     ]
    },
    {
     "name": "stderr",
     "output_type": "stream",
     "text": [
      "c:\\Dokumenter\\Dokumenter\\Git_Projects\\02458_Cognitive_Modelling\\Exam\\examtoolbox.py:644: RuntimeWarning: divide by zero encountered in log\n",
      "  nll = -sum(np.log(stats.binom.pmf(self.x_a, self.n_responses, Pa))) - sum(np.log(stats.binom.pmf(self.x_v, self.n_responses, Pv))) - sum(L)\n"
     ]
    }
   ],
   "source": [
    "# to get the model parameters and the negative log likelihood do this:\n",
    "# model.print_parameters() and state which model you want to look at; 'Early', 'Strong Fusion', or 'Late'\n",
    "model.print_parameters(model='Early')"
   ]
  },
  {
   "cell_type": "code",
   "execution_count": null,
   "metadata": {},
   "outputs": [],
   "source": []
  }
 ],
 "metadata": {
  "kernelspec": {
   "display_name": "Python 3.9.4 64-bit",
   "language": "python",
   "name": "python3"
  },
  "language_info": {
   "codemirror_mode": {
    "name": "ipython",
    "version": 3
   },
   "file_extension": ".py",
   "mimetype": "text/x-python",
   "name": "python",
   "nbconvert_exporter": "python",
   "pygments_lexer": "ipython3",
   "version": "3.9.4"
  },
  "orig_nbformat": 4,
  "vscode": {
   "interpreter": {
    "hash": "a84faab740edc2ffcdbf4168f32bd03a4e5724d7f9fad76844773b2af875e96a"
   }
  }
 },
 "nbformat": 4,
 "nbformat_minor": 2
}
